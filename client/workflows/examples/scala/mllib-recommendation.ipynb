{
 "cells": [
  {
   "cell_type": "code",
   "execution_count": 1,
   "metadata": {},
   "outputs": [],
   "source": [
    "import $ivy.`net.liftweb::lift-json:3.3.0`\n",
    "import $ivy.`com.softwaremill.sttp.client::core:2.0.0-RC11`\n",
    "import $ivy.`com.softwaremill.sttp.client::async-http-client-backend-future:2.0.0-RC11`\n",
    "\n",
    "import $ivy.`com.amazonaws:aws-java-sdk:1.11.70`\n",
    "\n",
    "import $ivy.`org.apache.spark::spark-core:2.4.0`\n",
    "import $ivy.`org.apache.spark::spark-mllib:2.4.0`"
   ]
  }
 ],
 "metadata": {
  "kernelspec": {
   "display_name": "Scala",
   "language": "scala",
   "name": "scala"
  },
  "language_info": {
   "codemirror_mode": "text/x-scala",
   "file_extension": ".scala",
   "mimetype": "text/x-scala",
   "name": "scala",
   "nbconvert_exporter": "script",
   "version": "2.11.12"
  }
 },
 "nbformat": 4,
 "nbformat_minor": 2
}
